{
 "cells": [
  {
   "cell_type": "markdown",
   "id": "8bbc243d",
   "metadata": {},
   "source": [
    "### In case that your kernel does not have the following libraries installed ..."
   ]
  },
  {
   "cell_type": "raw",
   "id": "87439613",
   "metadata": {},
   "source": [
    "# Packages for installation\n",
    "\n",
    "!python3 -m pip install allensdk\n",
    "!python3 -m pip install pandas\n",
    "!python3 -m pip install requests\n",
    "!python3 -m pip install wget\n",
    "!python3 -m pip install matplotlib"
   ]
  },
  {
   "cell_type": "markdown",
   "id": "19334ddb",
   "metadata": {},
   "source": [
    "### Initialization of utilized libraries"
   ]
  },
  {
   "cell_type": "code",
   "execution_count": 1,
   "id": "ef282546",
   "metadata": {},
   "outputs": [],
   "source": [
    "%load_ext autoreload\n",
    "%autoreload 2\n",
    "from cfg import *\n",
    "\n",
    "# main_path = os.path.abspath('../../')\n",
    "# lib_dir = os.path.join(main_path,'Libraries')\n",
    "# data_repository = os.path.join(main_path,'Data Repositories/mouse_connectivity')\n",
    "data_repository = 'data_repository'\n",
    "# mouselight_dir = os.path.join(main_path,'Data Repositories/Mouselight/json')\n",
    "# braintell_dir = os.path.join(main_path,'Data Repositories/Braintell')\n",
    "\n",
    "# sys.path.append(main_path)\n",
    "# sys.path.append(lib_dir)\n",
    "\n",
    "# from Libraries.cfg import *\n",
    "from NeuronMorphology import NeuronMorphology\n",
    "import convertAllenSpace as CAS\n",
    "import rpc_interface\n",
    "import SBA_API  \n",
    "from utils import *"
   ]
  },
  {
   "cell_type": "code",
   "execution_count": 2,
   "id": "38a3804d",
   "metadata": {},
   "outputs": [],
   "source": [
    "### Call the click handler\n",
    "\n",
    "def sbaOnclickHandler(result):\n",
    "    \n",
    "    with stdout:\n",
    "        \n",
    "        print(result)\n",
    "        \n",
    "        SBA_API.neuron_finder(result, sba_interface, mySomaLocations, neuriteLengthDistribution)\n"
   ]
  },
  {
   "cell_type": "code",
   "execution_count": 4,
   "id": "44091669",
   "metadata": {},
   "outputs": [
    {
     "name": "stdout",
     "output_type": "stream",
     "text": [
      "287\n"
     ]
    },
    {
     "data": {
      "application/vnd.jupyter.widget-view+json": {
       "model_id": "74b32ad361b542e48d30e3bebb81d698",
       "version_major": 2,
       "version_minor": 0
      },
      "text/plain": [
       "Output(layout=Layout(border='10px solid #FA0'))"
      ]
     },
     "metadata": {},
     "output_type": "display_data"
    },
    {
     "data": {
      "text/plain": [
       "'03b0c7ae6a7f4802a2ab85f8d4199f8b'"
      ]
     },
     "execution_count": 4,
     "metadata": {},
     "output_type": "execute_result"
    }
   ],
   "source": [
    "# Select region of interest\n",
    "myRegion = 'VPM'\n",
    "\n",
    "\n",
    "# Laad useful variables\n",
    "acr2id, ancestorsById, neuriteLengthDistribution, acr_to_morpho_id = load_useful_variables(data_repository)\n",
    "\n",
    "\n",
    "# Get the cell bodies of all available morphologies\n",
    "mySomaLocations = get_soma_locations(myRegion, neuriteLengthDistribution, acr2id, ancestorsById)\n",
    "print(len(mySomaLocations.keys())) \n",
    "\n",
    "\n",
    "# Create a new SBA class object\n",
    "sba_interface = SBA_API.SBA_interface()\n",
    "\n",
    "\n",
    "# Set the parameters for Coherent Point Drift comparisons ...\n",
    "cpd_params = {'max_it': 3, 'flag_in' : [1,1,-1], 'tol' : 0.001,  'branch_constraint': False}\n",
    "soma_thr = 30\n",
    "sba_interface.set_cpd_params(cpd_params,soma_thr)\n",
    "\n",
    "\n",
    "# Create objects corresponding to somata of neurons residing in region of interest (ex. VPM) to SBA\n",
    "sbaCommand_center = sba_interface.create_soma_object(mySomaLocations, myRegion)\n",
    "\n",
    "\n",
    "# Instantiate a bi-directional SBA interface from the SBA class object\n",
    "sbaInterface = sba_interface.sbaInterface\n",
    "stdout = widgets.Output(layout={'border': '10px solid #FA0'})\n",
    "display(stdout)\n",
    "\n",
    "\n",
    "# Call the bi-directional interface\n",
    "sbaInterface.send(sbaCommand_center, callback=sbaOnclickHandler,keepAlive=True)\n"
   ]
  }
 ],
 "metadata": {
  "kernelspec": {
   "display_name": "Python 3",
   "language": "python",
   "name": "python3"
  },
  "language_info": {
   "codemirror_mode": {
    "name": "ipython",
    "version": 3
   },
   "file_extension": ".py",
   "mimetype": "text/x-python",
   "name": "python",
   "nbconvert_exporter": "python",
   "pygments_lexer": "ipython3",
   "version": "3.6.9"
  }
 },
 "nbformat": 4,
 "nbformat_minor": 5
}
